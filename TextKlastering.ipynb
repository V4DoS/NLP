{
 "cells": [
  {
   "cell_type": "code",
   "execution_count": 7,
   "id": "aead5867-3611-4d55-bb93-9aa200e2e62c",
   "metadata": {},
   "outputs": [
    {
     "name": "stdout",
     "output_type": "stream",
     "text": [
      "Результаты сохранены в файл: clustered_productsAK.xlsx\n"
     ]
    }
   ],
   "source": [
    "import pandas as pd                                       #Кластеризация текста\n",
    "from sentence_transformers import SentenceTransformer\n",
    "from sklearn.cluster import AgglomerativeClustering\n",
    "\n",
    "# Загрузка данных из Excel\n",
    "file_path = \"АК1.xlsx\"  # Укажите путь к вашему Excel-файлу\n",
    "data = pd.read_excel(file_path)\n",
    "product_names = data['Product Name 1'].dropna().tolist()  # Читаем столбец с названиями\n",
    "\n",
    "# Очистка текста\n",
    "import re\n",
    "def clean_text(text):\n",
    "    text = text.lower()\n",
    "    text = re.sub(r\"\\d+[,.\\d+]*[лмшт\\s()]*\", \"\", text)  # Удаляем объемы и лишние символы\n",
    "    text = re.sub(r\"[^\\w\\s]\", \"\", text)  # Удаляем знаки препинания\n",
    "    text = text.strip()\n",
    "    return text\n",
    "\n",
    "cleaned_names = [clean_text(name) for name in product_names]\n",
    "\n",
    "# Создание эмбеддингов с помощью Sentence Transformers\n",
    "model = SentenceTransformer('paraphrase-MiniLM-L6-v2')  # Легкая и быстрая модель\n",
    "embeddings = model.encode(cleaned_names)\n",
    "\n",
    "# Кластеризация\n",
    "clustering_model = AgglomerativeClustering(n_clusters=None, distance_threshold=1.5)  # Автоопределение числа кластеров\n",
    "clusters = clustering_model.fit_predict(embeddings)\n",
    "\n",
    "# Создание DataFrame с результатами\n",
    "data['Cleaned Name'] = cleaned_names\n",
    "data['Cluster'] = clusters\n",
    "\n",
    "# Сохранение результатов\n",
    "output_file = \"clustered_productsAK.xlsx\"\n",
    "data.to_excel(output_file, index=False)\n",
    "print(f\"Результаты сохранены в файл: {output_file}\")\n"
   ]
  },
  {
   "cell_type": "code",
   "execution_count": null,
   "id": "6f6ecb65-ddc6-485b-be7e-66ccca9e4ad6",
   "metadata": {},
   "outputs": [],
   "source": []
  },
  {
   "cell_type": "code",
   "execution_count": null,
   "id": "1726cbf2-71b3-43a4-bd2b-67602c1a89e7",
   "metadata": {},
   "outputs": [],
   "source": []
  },
  {
   "cell_type": "code",
   "execution_count": null,
   "id": "1ddcaad4-e8ad-4cc4-98f2-d5af8b28db6a",
   "metadata": {},
   "outputs": [],
   "source": []
  }
 ],
 "metadata": {
  "kernelspec": {
   "display_name": "Python 3 (ipykernel)",
   "language": "python",
   "name": "python3"
  },
  "language_info": {
   "codemirror_mode": {
    "name": "ipython",
    "version": 3
   },
   "file_extension": ".py",
   "mimetype": "text/x-python",
   "name": "python",
   "nbconvert_exporter": "python",
   "pygments_lexer": "ipython3",
   "version": "3.11.7"
  }
 },
 "nbformat": 4,
 "nbformat_minor": 5
}
